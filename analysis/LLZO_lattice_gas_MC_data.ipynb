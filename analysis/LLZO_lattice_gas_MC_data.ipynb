{
 "cells": [
  {
   "cell_type": "code",
   "execution_count": 1,
   "metadata": {
    "collapsed": false,
    "deletable": true,
    "editable": true
   },
   "outputs": [],
   "source": [
    "%matplotlib inline\n",
    "%config InlineBackend.figure_format='retina'"
   ]
  },
  {
   "cell_type": "code",
   "execution_count": 2,
   "metadata": {
    "collapsed": false,
    "deletable": true,
    "editable": true
   },
   "outputs": [],
   "source": [
    "import sys\n",
    "import numpy as np\n",
    "import pandas as pd\n",
    "import scipy.ndimage\n",
    "from scipy import interpolate\n",
    "from scipy import stats"
   ]
  },
  {
   "cell_type": "code",
   "execution_count": 3,
   "metadata": {
    "collapsed": true,
    "deletable": true,
    "editable": true
   },
   "outputs": [],
   "source": [
    "import matplotlib.pyplot as plt\n",
    "import matplotlib\n",
    "matplotlib.style.use('ggplot')"
   ]
  },
  {
   "cell_type": "code",
   "execution_count": 4,
   "metadata": {
    "collapsed": false,
    "deletable": true,
    "editable": true
   },
   "outputs": [],
   "source": [
    "filename = 'new_llzo_data.csv'\n",
    "\n",
    "index = np.array( [ 'n_Li', 'E_nn', 'E_site', 'f', 'f_I', 'D_t', 'D_coll', 'n_oct', 'n_tet' ] )\n",
    "\n",
    "data = pd.read_csv( filename, delim_whitespace = True, names = index, header = None, comment = '#' )\n",
    "\n",
    "data[ 'H_R' ] = data[ 'f' ] / data[ 'f_I' ]\n",
    "data[ 'site_ratio' ] = data[ 'n_oct' ] / data[ 'n_tet' ]\n",
    "data[ 'sigma_eff' ] = data[ 'D_coll' ] * data[ 'n_Li' ]"
   ]
  },
  {
   "cell_type": "code",
   "execution_count": 5,
   "metadata": {
    "collapsed": false,
    "deletable": true,
    "editable": true
   },
   "outputs": [
    {
     "data": {
      "text/html": [
       "<div>\n",
       "<table border=\"1\" class=\"dataframe\">\n",
       "  <thead>\n",
       "    <tr style=\"text-align: right;\">\n",
       "      <th></th>\n",
       "      <th>n_Li</th>\n",
       "      <th>E_nn</th>\n",
       "      <th>E_site</th>\n",
       "      <th>f</th>\n",
       "      <th>f_I</th>\n",
       "      <th>D_t</th>\n",
       "      <th>D_coll</th>\n",
       "      <th>n_oct</th>\n",
       "      <th>n_tet</th>\n",
       "      <th>H_R</th>\n",
       "      <th>site_ratio</th>\n",
       "      <th>sigma_eff</th>\n",
       "    </tr>\n",
       "  </thead>\n",
       "  <tbody>\n",
       "    <tr>\n",
       "      <th>0</th>\n",
       "      <td>0.015625</td>\n",
       "      <td>0.0</td>\n",
       "      <td>0.0</td>\n",
       "      <td>1.010</td>\n",
       "      <td>1.010</td>\n",
       "      <td>6.352000e-07</td>\n",
       "      <td>6.352000e-07</td>\n",
       "      <td>0.67</td>\n",
       "      <td>0.33</td>\n",
       "      <td>1.000000</td>\n",
       "      <td>2.030303</td>\n",
       "      <td>6.352000e-07</td>\n",
       "    </tr>\n",
       "    <tr>\n",
       "      <th>1</th>\n",
       "      <td>0.500000</td>\n",
       "      <td>0.0</td>\n",
       "      <td>0.0</td>\n",
       "      <td>0.948</td>\n",
       "      <td>0.999</td>\n",
       "      <td>5.643000e-07</td>\n",
       "      <td>5.947000e-07</td>\n",
       "      <td>21.33</td>\n",
       "      <td>10.67</td>\n",
       "      <td>0.948949</td>\n",
       "      <td>1.999063</td>\n",
       "      <td>1.903040e-05</td>\n",
       "    </tr>\n",
       "    <tr>\n",
       "      <th>2</th>\n",
       "      <td>1.000000</td>\n",
       "      <td>0.0</td>\n",
       "      <td>0.0</td>\n",
       "      <td>0.902</td>\n",
       "      <td>0.995</td>\n",
       "      <td>5.053000e-07</td>\n",
       "      <td>5.577000e-07</td>\n",
       "      <td>42.67</td>\n",
       "      <td>21.33</td>\n",
       "      <td>0.906533</td>\n",
       "      <td>2.000469</td>\n",
       "      <td>3.569280e-05</td>\n",
       "    </tr>\n",
       "    <tr>\n",
       "      <th>3</th>\n",
       "      <td>1.500000</td>\n",
       "      <td>0.0</td>\n",
       "      <td>0.0</td>\n",
       "      <td>0.856</td>\n",
       "      <td>1.005</td>\n",
       "      <td>4.495000e-07</td>\n",
       "      <td>5.281000e-07</td>\n",
       "      <td>64.01</td>\n",
       "      <td>31.99</td>\n",
       "      <td>0.851741</td>\n",
       "      <td>2.000938</td>\n",
       "      <td>5.069760e-05</td>\n",
       "    </tr>\n",
       "    <tr>\n",
       "      <th>4</th>\n",
       "      <td>2.000000</td>\n",
       "      <td>0.0</td>\n",
       "      <td>0.0</td>\n",
       "      <td>0.808</td>\n",
       "      <td>0.999</td>\n",
       "      <td>3.965000e-07</td>\n",
       "      <td>4.898000e-07</td>\n",
       "      <td>85.34</td>\n",
       "      <td>42.66</td>\n",
       "      <td>0.808809</td>\n",
       "      <td>2.000469</td>\n",
       "      <td>6.269440e-05</td>\n",
       "    </tr>\n",
       "  </tbody>\n",
       "</table>\n",
       "</div>"
      ],
      "text/plain": [
       "       n_Li  E_nn  E_site      f    f_I           D_t        D_coll  n_oct  \\\n",
       "0  0.015625   0.0     0.0  1.010  1.010  6.352000e-07  6.352000e-07   0.67   \n",
       "1  0.500000   0.0     0.0  0.948  0.999  5.643000e-07  5.947000e-07  21.33   \n",
       "2  1.000000   0.0     0.0  0.902  0.995  5.053000e-07  5.577000e-07  42.67   \n",
       "3  1.500000   0.0     0.0  0.856  1.005  4.495000e-07  5.281000e-07  64.01   \n",
       "4  2.000000   0.0     0.0  0.808  0.999  3.965000e-07  4.898000e-07  85.34   \n",
       "\n",
       "   n_tet       H_R  site_ratio     sigma_eff  \n",
       "0   0.33  1.000000    2.030303  6.352000e-07  \n",
       "1  10.67  0.948949    1.999063  1.903040e-05  \n",
       "2  21.33  0.906533    2.000469  3.569280e-05  \n",
       "3  31.99  0.851741    2.000938  5.069760e-05  \n",
       "4  42.66  0.808809    2.000469  6.269440e-05  "
      ]
     },
     "execution_count": 5,
     "metadata": {},
     "output_type": "execute_result"
    }
   ],
   "source": [
    "data.n_Li /= 64.0\n",
    "data.head()"
   ]
  },
  {
   "cell_type": "code",
   "execution_count": 6,
   "metadata": {
    "collapsed": true,
    "deletable": true,
    "editable": true
   },
   "outputs": [],
   "source": [
    "def my_plot( subplot, x, y ):\n",
    "    subplot.plot( x, y, marker = 'o', markeredgewidth=0.0, color='mediumseagreen', clip_on = False )\n",
    "\n",
    "def setup_figure( subplot ):\n",
    "    subplot.set_axis_bgcolor(\"w\")\n",
    "    subplot.grid(color='grey', linewidth = 0.3 )\n",
    "    for s in [ 'top', 'bottom', 'left', 'right' ]:\n",
    "        subplot.spines[ s ].set_color('grey')\n",
    "        subplot.spines[ s ].set_linewidth(0.3)\n",
    "    subplot.tick_params( axis ='both', which = 'both', length = 0, labelsize = 13 )"
   ]
  },
  {
   "cell_type": "code",
   "execution_count": 7,
   "metadata": {
    "collapsed": false,
    "deletable": true,
    "editable": true
   },
   "outputs": [
    {
     "name": "stderr",
     "output_type": "stream",
     "text": [
      "/usr/local/lib/python3.6/site-packages/ipykernel/__main__.py:5: MatplotlibDeprecationWarning: The set_axis_bgcolor function was deprecated in version 2.0. Use set_facecolor instead.\n"
     ]
    },
    {
     "name": "stdout",
     "output_type": "stream",
     "text": [
      "0.997351707838\n"
     ]
    },
    {
     "data": {
      "image/png": "[encoded data removed]",
      "text/plain": [
       "<matplotlib.figure.Figure at 0x106672748>"
      ]
     },
     "metadata": {
      "image/png": {
       "height": 279,
       "width": 714
      }
     },
     "output_type": "display_data"
    }
   ],
   "source": [
    "df = data.loc[ ( data.E_nn == 0.0 ) & ( data.E_site == 0.0 ) ]\n",
    "\n",
    "fig, axs = plt.subplots(1,2, figsize=(10, 4))\n",
    "\n",
    "setup_figure( axs[0] )\n",
    "setup_figure( axs[1] )\n",
    "\n",
    "my_plot( axs[0], df.n_Li, df.f )\n",
    "axs[0].set_xlabel(r'$n_\\mathrm{Li}$', fontsize = 18 )\n",
    "axs[0].set_ylabel(r'$f$', rotation = 0, labelpad = 18, fontsize = 18 )\n",
    "axs[0].set_xlim([0,9.0])\n",
    "axs[0].set_ylim([0.0,1.1])\n",
    "\n",
    "my_plot( axs[1], df.n_Li, df.f_I)\n",
    "axs[1].set_xlabel(r'$n_\\mathrm{Li}$', fontsize = 18 )\n",
    "axs[1].set_ylabel(r'$f_\\mathrm{I}$', rotation = 0, labelpad = 18, fontsize = 18 )\n",
    "axs[1].set_xlim([0,9.0])\n",
    "axs[1].set_ylim([0.0,1.1])\n",
    "\n",
    "plt.tight_layout( w_pad=5 )\n",
    "\n",
    "fig.savefig( filename = 'volume_exclusion_f_fI.pdf' )\n",
    "\n",
    "print( stats.linregress( df.n_Li/9, df.f ).rvalue**2 )"
   ]
  },
  {
   "cell_type": "code",
   "execution_count": 8,
   "metadata": {
    "collapsed": false,
    "deletable": true,
    "editable": true,
    "scrolled": true
   },
   "outputs": [
    {
     "ename": "IndentationError",
     "evalue": "unindent does not match any outer indentation level (<ipython-input-8-509a8a836c4a>, line 10)",
     "output_type": "error",
     "traceback": [
      "\u001b[0;36m  File \u001b[0;32m\"<ipython-input-8-509a8a836c4a>\"\u001b[0;36m, line \u001b[0;32m10\u001b[0m\n\u001b[0;31m    axes[i, j].set_xlabel('')\u001b[0m\n\u001b[0m                             ^\u001b[0m\n\u001b[0;31mIndentationError\u001b[0m\u001b[0;31m:\u001b[0m unindent does not match any outer indentation level\n"
     ]
    }
   ],
   "source": [
    "fig, axes = plt.subplots(nrows=7, ncols=6, figsize = (10, 10))\n",
    "for i, E_nn in enumerate( [ 0.0, 0.5, 1.0, 1.5, 2.0, 2.5, 3.0 ] ):\n",
    "    for j, E_site in enumerate( [ 0.0, 1.0, 2.0, 3.0, 4.0, 5.0 ] ):\n",
    "        df = data.loc[ ( data.E_nn == E_nn ) & ( data.E_site == E_site ) ]\n",
    "        axes[i, j].set_xlim([0,9.0])\n",
    "        axes[i, j].set_ylim([0.0,1.1])\n",
    "        if not df.empty:\n",
    "#             df.plot( x = 'n_Li', y = [ 'f', 'f_I', 'H_R' ], ax = axes[i, j], legend = None )\n",
    "              df.plot( x = 'n_Li', y = [ 'f', 'f_I' ], ax = axes[i, j], legend = None )\n",
    "            axes[i, j].set_xlabel('')\n",
    "    \n",
    "fig.tight_layout()\n",
    "fig.savefig( filename = 'correlation_miniplots.pdf' )"
   ]
  },
  {
   "cell_type": "code",
   "execution_count": null,
   "metadata": {
    "collapsed": false,
    "deletable": true,
    "editable": true
   },
   "outputs": [],
   "source": [
    "fig, axes = plt.subplots(nrows=7, ncols=6, figsize = (10, 10))\n",
    "for i, E_nn in enumerate( [ 0.0, 0.5, 1.0, 1.5, 2.0, 2.5, 3.0 ] ):\n",
    "    for j, E_site in enumerate( [ 0.0, 1.0, 2.0, 3.0, 4.0, 5.0 ] ):\n",
    "        df = data.loc[ ( data.E_nn == E_nn ) & ( data.E_site == E_site ) ]\n",
    "        axes[i, j].set_xlim([0,9.0])\n",
    "        axes[i, j].set_ylim([0.0,400])\n",
    "        if not df.empty:\n",
    "            df.plot( x = 'n_Li', y = [ 'n_tet', 'n_oct' ], ax = axes[i, j], legend = None, clip_on = False, zorder=100 )\n",
    "            axes[i, j].set_xlabel('')\n",
    "    \n",
    "fig.tight_layout()\n",
    "fig.savefig( filename = 'site_occupation_miniplots.pdf' )"
   ]
  },
  {
   "cell_type": "code",
   "execution_count": null,
   "metadata": {
    "collapsed": false,
    "deletable": true,
    "editable": true
   },
   "outputs": [],
   "source": [
    "fig, axes = plt.subplots(nrows=7, ncols=6, figsize = (10, 10))\n",
    "for i, E_nn in enumerate( [ 0.0, 0.5, 1.0, 1.5, 2.0, 2.5, 3.0 ] ):\n",
    "    for j, E_site in enumerate( [ 0.0, 1.0, 2.0, 3.0, 4.0, 5.0 ] ):\n",
    "        df = data.loc[ ( data.E_nn == E_nn ) & ( data.E_site == E_site ) ]\n",
    "        max_D_coll = df.D_coll.max()\n",
    "        axes[i, j].set_xlim([ 0, 9 ])\n",
    "        axes[i, j].set_ylim([ 1e-12, 1e-6 ])\n",
    "        if not df.empty:\n",
    "            df.plot( x = 'n_Li', y = [ 'D_t', 'D_coll' ], ax = axes[i, j], legend = None, logy = True,  clip_on = False, zorder=100  )\n",
    "            axes[i, j].set_xlabel('')\n",
    "    \n",
    "fig.tight_layout()\n",
    "fig.savefig( filename = 'diffusion_miniplots.pdf' )"
   ]
  },
  {
   "cell_type": "code",
   "execution_count": null,
   "metadata": {
    "collapsed": false,
    "deletable": true,
    "editable": true
   },
   "outputs": [],
   "source": [
    "fig, axes = plt.subplots(nrows=7, ncols=6, figsize = (10, 10))\n",
    "for i, E_nn in enumerate( [ 0.0, 0.5, 1.0, 1.5, 2.0, 2.5, 3.0 ] ):\n",
    "    for j, E_site in enumerate( [ 0.0, 1.0, 2.0, 3.0, 4.0, 5.0 ] ):\n",
    "        df = data.loc[ ( data.E_nn == E_nn ) & ( data.E_site == E_site ) ]\n",
    "        axes[i, j].set_xlim( [0,9.0] )\n",
    "        axes[i, j].set_ylim( [1e-8,1.1e-4] )\n",
    "        if not df.empty:\n",
    "            df.plot( x = 'n_Li', y = 'sigma_eff', ax = axes[i, j], legend = None, logy = True,  clip_on = False, zorder=100  )\n",
    "            axes[i, j].set_xlabel('')\n",
    "    \n",
    "fig.tight_layout()\n",
    "fig.savefig( filename = 'conductivity_miniplots.pdf' )"
   ]
  },
  {
   "cell_type": "code",
   "execution_count": null,
   "metadata": {
    "collapsed": true,
    "deletable": true,
    "editable": true
   },
   "outputs": [],
   "source": [
    "plt.close('all')"
   ]
  },
  {
   "cell_type": "code",
   "execution_count": null,
   "metadata": {
    "collapsed": false,
    "deletable": true,
    "editable": true
   },
   "outputs": [],
   "source": [
    "def func( group ):\n",
    "    return group[ group.sigma_eff == group.sigma_eff.max() ]\n",
    "\n",
    "ndata_pd = data.groupby( [ 'E_nn', 'E_site' ] ).apply( func ).reset_index( drop = True )\n",
    "ndata_pd = ndata_pd.sort_values( by = 'E_nn', ascending = False ).pivot( 'E_nn', 'E_site', 'n_Li' )\n",
    "fig = plt.figure()\n",
    "ax = fig.add_subplot(111)\n",
    "\n",
    "ndata = np.nan_to_num( np.array( ndata_pd ) )\n",
    "# ndata = scipy.ndimage.zoom( ndata, 3)\n",
    "\n",
    "X = np.linspace( 0, 5.0, 6 )\n",
    "Y = np.linspace( 0, 3.0, 7 )\n",
    "Z = ndata\n",
    "levels = np.linspace( 0.0, 9.0, 19 )\n",
    "\n",
    "x,y=np.meshgrid(X, Y)\n",
    "ax.set_xlabel( r'$E_\\mathrm{site}$' )\n",
    "ax.set_ylabel( r'$E_\\mathrm{nn}$' )\n",
    "\n",
    "cs = plt.contourf(x, y, Z, interpolation = 'bicubic', levels = levels, cmap = 'viridis' )\n",
    "\n",
    "cbar = plt.colorbar( cs )\n",
    "cbar.ax.set_ylabel( r'$n_\\mathrm{Li}(\\sigma_\\mathrm{max}$)')"
   ]
  },
  {
   "cell_type": "code",
   "execution_count": null,
   "metadata": {
    "collapsed": false,
    "deletable": true,
    "editable": true
   },
   "outputs": [],
   "source": [
    "def func( group ):\n",
    "    return group[ group.sigma_eff == group.sigma_eff.max() ]\n",
    "\n",
    "ndata_pd = data.groupby( [ 'E_nn', 'E_site' ] ).apply( func ).reset_index( drop = True )\n",
    "Z = ndata_pd.n_Li.values\n",
    "Y = ndata_pd.E_nn.values\n",
    "X = ndata_pd.E_site.values\n",
    "\n",
    "fig = plt.figure()\n",
    "ax = fig.add_subplot(111)\n",
    "\n",
    "xnew, ynew = np.mgrid[0:5.0:18j, 0:3.0:21j]\n",
    "tck = interpolate.bisplrep( X, Y, Z, s=3 )\n",
    "znew = interpolate.bisplev(xnew[:,0], ynew[0,:], tck)\n",
    "\n",
    "levels = np.linspace( 0.0, 9.0, 19 )\n",
    "\n",
    "x,y=np.meshgrid(X, Y)\n",
    "ax.set_xlabel( r'$E_\\mathrm{site}$' )\n",
    "ax.set_ylabel( r'$E_\\mathrm{nn}$' )\n",
    "\n",
    "cs = plt.contourf(xnew, ynew, znew, interpolation = 'bicubic', levels = levels, cmap = 'viridis' )\n",
    "\n",
    "cbar = plt.colorbar( cs )\n",
    "cbar.ax.set_ylabel( r'$\\arg\\,\\max\\,\\sigma^\\prime(x_\\mathrm{Li})$')\n",
    "fig.savefig( filename = 'max_sigma.pdf' )"
   ]
  },
  {
   "cell_type": "code",
   "execution_count": null,
   "metadata": {
    "collapsed": false,
    "deletable": true,
    "editable": true
   },
   "outputs": [],
   "source": [
    "loc = data.n_Li == 6\n",
    "\n",
    "Z = data[loc].site_ratio.values\n",
    "Y = ndata_pd.E_nn.values\n",
    "X = ndata_pd.E_site.values\n",
    "\n",
    "fig = plt.figure()\n",
    "ax = fig.add_subplot(111)\n",
    "\n",
    "xnew, ynew = np.mgrid[0:5.0:18j, 0:3.0:21j]\n",
    "tck = interpolate.bisplrep( X, Y, Z, s=3 )\n",
    "znew = interpolate.bisplev(xnew[:,0], ynew[0,:], tck)\n",
    "\n",
    "levels = np.linspace( 0.0, 10.0, 21 )\n",
    "\n",
    "x,y=np.meshgrid(X, Y)\n",
    "ax.set_xlabel( r'$E_\\mathrm{site}$' )\n",
    "ax.set_ylabel( r'$E_\\mathrm{nn}$' )\n",
    "\n",
    "\n",
    "cs = plt.contourf(xnew, ynew, znew, interpolation = 'bicubic', levels = levels, cmap = 'viridis', extend = 'max' )\n",
    "CL = plt.contour(xnew, ynew, znew, levels = [ 3.0 ], linewidths=2, cmap = matplotlib.cm.gray )\n",
    "\n",
    "cbar = plt.colorbar( cs )\n",
    "cbar.ax.set_ylabel( r'$n_\\mathrm{oct}/n_\\mathrm{tet}$')\n",
    "fig.savefig( filename = 'max_sigma.pdf' )"
   ]
  },
  {
   "cell_type": "code",
   "execution_count": null,
   "metadata": {
    "collapsed": false,
    "deletable": true,
    "editable": true
   },
   "outputs": [],
   "source": [
    "loc = data.n_Li == 3\n",
    "\n",
    "Z = data[loc].site_ratio.values\n",
    "Y = ndata_pd.E_nn.values\n",
    "X = ndata_pd.E_site.values\n",
    "\n",
    "fig = plt.figure()\n",
    "ax = fig.add_subplot(111)\n",
    "\n",
    "xnew, ynew = np.mgrid[0:5.0:18j, 0:3.0:21j]\n",
    "tck = interpolate.bisplrep( X, Y, Z, s=3 )\n",
    "znew2 = interpolate.bisplev(xnew[:,0], ynew[0,:], tck)\n",
    "\n",
    "levels = np.linspace( 0.0, 10.0, 21 )\n",
    "\n",
    "x,y=np.meshgrid(X, Y)\n",
    "ax.set_xlabel( r'$E_\\mathrm{site}$' )\n",
    "ax.set_ylabel( r'$E_\\mathrm{nn}$' )\n",
    "\n",
    "\n",
    "cs = plt.contourf(xnew, ynew, znew2, interpolation = 'bicubic', levels = levels, cmap = 'viridis', extend = 'max' )\n",
    "CL = plt.contour(xnew, ynew, znew2, levels = [ 0.0 ], linewidths=2, cmap = matplotlib.cm.gray )\n",
    "\n",
    "cbar = plt.colorbar( cs )\n",
    "cbar.ax.set_ylabel( r'$n_\\mathrm{oct}/n_\\mathrm{tet}$')\n",
    "fig.savefig( filename = 'max_sigma.pdf' )"
   ]
  },
  {
   "cell_type": "code",
   "execution_count": null,
   "metadata": {
    "collapsed": false,
    "deletable": true,
    "editable": true
   },
   "outputs": [],
   "source": [
    "fig = plt.figure()\n",
    "ax = fig.add_subplot(111)\n",
    "\n",
    "x,y=np.meshgrid(X, Y)\n",
    "ax.set_xlabel( r'$E_\\mathrm{site}$' )\n",
    "ax.set_ylabel( r'$E_\\mathrm{nn}$' )\n",
    "\n",
    "# cs = plt.contourf(xnew, ynew, znew2, interpolation = 'bicubic', levels = levels, cmap = 'viridis', extend = 'max' )\n",
    "CL1 = plt.contour(xnew, ynew, znew, levels = [ 3.0 ], linewidths=2, cmap = matplotlib.cm.gray )\n",
    "CL2 = plt.contour(xnew, ynew, znew2, levels = [ 0.0 ], linewidths=2, cmap = matplotlib.cm.gray )\n",
    "\n",
    "cbar = plt.colorbar( cs )\n",
    "cbar.ax.set_ylabel( r'$n_\\mathrm{oct}/n_\\mathrm{tet}$')"
   ]
  },
  {
   "cell_type": "code",
   "execution_count": null,
   "metadata": {
    "collapsed": true,
    "deletable": true,
    "editable": true
   },
   "outputs": [],
   "source": [
    "plt.close('all')"
   ]
  }
 ],
 "metadata": {
  "kernelspec": {
   "display_name": "Python 3",
   "language": "python",
   "name": "python3"
  },
  "language_info": {
   "codemirror_mode": {
    "name": "ipython",
    "version": 3
   },
   "file_extension": ".py",
   "mimetype": "text/x-python",
   "name": "python",
   "nbconvert_exporter": "python",
   "pygments_lexer": "ipython3",
   "version": "3.6.0"
  }
 },
 "nbformat": 4,
 "nbformat_minor": 0
}
